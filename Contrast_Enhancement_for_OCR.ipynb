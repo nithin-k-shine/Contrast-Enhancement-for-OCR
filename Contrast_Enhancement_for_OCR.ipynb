{
 "cells": [
  {
   "cell_type": "code",
   "execution_count": 3,
   "metadata": {},
   "outputs": [],
   "source": [
    "#Importing libraries\n",
    "%matplotlib inline\n",
    "from IPython.display import display, Math\n",
    "\n",
    "import numpy as np\n",
    "import matplotlib.pyplot as plt\n",
    "import cv2"
   ]
  },
  {
   "cell_type": "code",
   "execution_count": 4,
   "metadata": {},
   "outputs": [],
   "source": [
    "#Reading image\n",
    "original_image = cv2.imread('contrast_OCR.jpg')\n",
    "#original_image = cv2.resize(original_image, (600, 700))\n",
    "\n",
    "# display the image\n",
    "cv2.imshow('Original image',original_image)\n",
    "cv2.waitKey()\n",
    "cv2.destroyAllWindows()"
   ]
  },
  {
   "cell_type": "code",
   "execution_count": 5,
   "metadata": {},
   "outputs": [],
   "source": [
    "#Converting image to HSV format\n",
    "hsv_image=cv2.cvtColor(original_image,cv2.COLOR_RGB2GRAY)\n",
    "\n",
    "# display the image\n",
    "cv2.imshow('Binarized image',hsv_image)\n",
    "cv2.waitKey()\n",
    "cv2.destroyAllWindows()"
   ]
  },
  {
   "cell_type": "code",
   "execution_count": 6,
   "metadata": {},
   "outputs": [],
   "source": [
    "#Converting image to HSV format\n",
    "hsv_image=cv2.cvtColor(original_image,cv2.COLOR_RGB2HSV)\n",
    "\n",
    "# display the image\n",
    "cv2.imshow('HSV image',hsv_image)\n",
    "cv2.waitKey()\n",
    "cv2.destroyAllWindows()"
   ]
  },
  {
   "cell_type": "code",
   "execution_count": 7,
   "metadata": {},
   "outputs": [],
   "source": [
    "# convert HSV image into a numpy array\n",
    "img = np.asarray(hsv_image)"
   ]
  },
  {
   "cell_type": "code",
   "execution_count": 8,
   "metadata": {},
   "outputs": [
    {
     "data": {
      "text/plain": [
       "(array([4.000000e+00, 5.200000e+01, 1.480000e+02, 1.790000e+02,\n",
       "        6.740000e+02, 9.220900e+04, 7.283580e+05, 5.310330e+05,\n",
       "        2.797000e+05, 1.956510e+05, 9.923000e+04, 6.177800e+04,\n",
       "        3.274100e+04, 4.127400e+04, 3.958300e+04, 3.839500e+04,\n",
       "        4.050700e+04, 4.462400e+04, 5.057570e+05, 1.388009e+06,\n",
       "        3.871870e+05, 4.539600e+04, 4.859700e+04, 5.068000e+04,\n",
       "        3.805400e+04, 5.103700e+04, 4.707700e+04, 5.233900e+04,\n",
       "        5.815600e+04, 5.655800e+04, 5.658200e+04, 6.661700e+04,\n",
       "        6.913400e+04, 7.273400e+04, 9.638500e+04, 1.231860e+05,\n",
       "        1.404160e+05, 2.012020e+05, 4.204740e+05, 3.085220e+05,\n",
       "        4.350500e+04, 5.010000e+02, 1.250000e+02, 8.100000e+01,\n",
       "        6.000000e+01, 7.400000e+01, 6.800000e+01, 9.000000e+00,\n",
       "        2.600000e+01, 1.920000e+02]),\n",
       " array([  9.  ,  13.92,  18.84,  23.76,  28.68,  33.6 ,  38.52,  43.44,\n",
       "         48.36,  53.28,  58.2 ,  63.12,  68.04,  72.96,  77.88,  82.8 ,\n",
       "         87.72,  92.64,  97.56, 102.48, 107.4 , 112.32, 117.24, 122.16,\n",
       "        127.08, 132.  , 136.92, 141.84, 146.76, 151.68, 156.6 , 161.52,\n",
       "        166.44, 171.36, 176.28, 181.2 , 186.12, 191.04, 195.96, 200.88,\n",
       "        205.8 , 210.72, 215.64, 220.56, 225.48, 230.4 , 235.32, 240.24,\n",
       "        245.16, 250.08, 255.  ]),\n",
       " <BarContainer object of 50 artists>)"
      ]
     },
     "execution_count": 8,
     "metadata": {},
     "output_type": "execute_result"
    },
    {
     "data": {
      "image/png": "[encoded data removed]",
      "text/plain": [
       "<Figure size 432x288 with 1 Axes>"
      ]
     },
     "metadata": {
      "needs_background": "light"
     },
     "output_type": "display_data"
    }
   ],
   "source": [
    "# put pixels in a 1D array by flattening out img array\n",
    "flat = img.flatten()\n",
    "\n",
    "# show the histogram\n",
    "plt.hist(flat, bins=50)"
   ]
  },
  {
   "cell_type": "code",
   "execution_count": 9,
   "metadata": {},
   "outputs": [
    {
     "data": {
      "text/latex": [
       "$\\displaystyle P_x(j) = \\sum_{i=0}^{j} P_x(i)$"
      ],
      "text/plain": [
       "<IPython.core.display.Math object>"
      ]
     },
     "metadata": {},
     "output_type": "display_data"
    }
   ],
   "source": [
    "# formula for creating the histogram\n",
    "display(Math(r'P_x(j) = \\sum_{i=0}^{j} P_x(i)'))"
   ]
  },
  {
   "cell_type": "code",
   "execution_count": 10,
   "metadata": {},
   "outputs": [
    {
     "data": {
      "text/plain": [
       "[<matplotlib.lines.Line2D at 0x28524e2ceb0>]"
      ]
     },
     "execution_count": 10,
     "metadata": {},
     "output_type": "execute_result"
    },
    {
     "data": {
      "image/png": "[encoded data removed]",
      "text/plain": [
       "<Figure size 432x288 with 1 Axes>"
      ]
     },
     "metadata": {
      "needs_background": "light"
     },
     "output_type": "display_data"
    }
   ],
   "source": [
    "# create histogram function\n",
    "def get_histogram(image, bins):\n",
    "    # array with size of bins, set to zeros\n",
    "    histogram = np.zeros(bins)\n",
    "    \n",
    "    # loop through pixels and sum up counts of pixels\n",
    "    for pixel in image:\n",
    "        histogram[pixel] += 1\n",
    "    \n",
    "    # return our final result\n",
    "    return histogram\n",
    "\n",
    "hist = get_histogram(flat, 256)\n",
    "\n",
    "plt.plot(hist)"
   ]
  },
  {
   "cell_type": "code",
   "execution_count": 11,
   "metadata": {},
   "outputs": [
    {
     "data": {
      "text/plain": [
       "[<matplotlib.lines.Line2D at 0x28524ea1580>]"
      ]
     },
     "execution_count": 11,
     "metadata": {},
     "output_type": "execute_result"
    },
    {
     "data": {
      "image/png": "[encoded data removed]",
      "text/plain": [
       "<Figure size 432x288 with 1 Axes>"
      ]
     },
     "metadata": {
      "needs_background": "light"
     },
     "output_type": "display_data"
    }
   ],
   "source": [
    "# create cumulative sum function\n",
    "def cumsum(a):\n",
    "    a = iter(a)\n",
    "    b = [next(a)]\n",
    "    for i in a:\n",
    "        b.append(b[-1] + i)\n",
    "    return np.array(b)\n",
    "\n",
    "# execute the fn\n",
    "cs = cumsum(hist)\n",
    "\n",
    "# display the result\n",
    "plt.plot(cs)"
   ]
  },
  {
   "cell_type": "code",
   "execution_count": 12,
   "metadata": {},
   "outputs": [
    {
     "data": {
      "text/latex": [
       "$\\displaystyle s_k = \\sum_{j=0}^{k} {\\frac{n_j}{N}}$"
      ],
      "text/plain": [
       "<IPython.core.display.Math object>"
      ]
     },
     "metadata": {},
     "output_type": "display_data"
    }
   ],
   "source": [
    "# formula to calculate cumulation sum\n",
    "display(Math(r's_k = \\sum_{j=0}^{k} {\\frac{n_j}{N}}'))"
   ]
  },
  {
   "cell_type": "code",
   "execution_count": 13,
   "metadata": {},
   "outputs": [
    {
     "data": {
      "text/plain": [
       "[<matplotlib.lines.Line2D at 0x28524f046a0>]"
      ]
     },
     "execution_count": 13,
     "metadata": {},
     "output_type": "execute_result"
    },
    {
     "data": {
      "image/png": "[encoded data removed]",
      "text/plain": [
       "<Figure size 432x288 with 1 Axes>"
      ]
     },
     "metadata": {
      "needs_background": "light"
     },
     "output_type": "display_data"
    }
   ],
   "source": [
    "# re-normalize cumsum values to be between 0-255\n",
    "\n",
    "# numerator & denomenator\n",
    "nj = (cs - cs.min()) * 255\n",
    "N = cs.max() - cs.min()\n",
    "\n",
    "# re-normalize the cdf\n",
    "cs = nj / N\n",
    "\n",
    "plt.plot(cs)"
   ]
  },
  {
   "cell_type": "code",
   "execution_count": 14,
   "metadata": {},
   "outputs": [
    {
     "data": {
      "text/plain": [
       "[<matplotlib.lines.Line2D at 0x28525f3b670>]"
      ]
     },
     "execution_count": 14,
     "metadata": {},
     "output_type": "execute_result"
    },
    {
     "data": {
      "image/png": "[encoded data removed]",
      "text/plain": [
       "<Figure size 432x288 with 1 Axes>"
      ]
     },
     "metadata": {
      "needs_background": "light"
     },
     "output_type": "display_data"
    }
   ],
   "source": [
    "# cast it back to uint8 since we can't use floating point values in images\n",
    "cs = cs.astype('uint8')\n",
    "\n",
    "plt.plot(cs)"
   ]
  },
  {
   "cell_type": "code",
   "execution_count": 15,
   "metadata": {},
   "outputs": [
    {
     "data": {
      "text/plain": [
       "(array([ 93266., 116238., 132044., 196106., 122442.,      0., 161528.,\n",
       "        121053., 127787., 208184., 138134., 164630., 136783., 109813.,\n",
       "        149649., 124957., 123526.,  75466.,  90494., 172784., 167013.,\n",
       "             0., 293092.,      0., 192712.,      0.,      0., 448952.,\n",
       "             0., 182655.,      0., 270598., 142413., 133251., 205516.,\n",
       "        118390., 133241., 122888., 133167., 129327., 156509., 123140.,\n",
       "         97382., 166113.,  86555., 157744., 102429., 164164., 125234.,\n",
       "        137511.]),\n",
       " array([  0. ,   5.1,  10.2,  15.3,  20.4,  25.5,  30.6,  35.7,  40.8,\n",
       "         45.9,  51. ,  56.1,  61.2,  66.3,  71.4,  76.5,  81.6,  86.7,\n",
       "         91.8,  96.9, 102. , 107.1, 112.2, 117.3, 122.4, 127.5, 132.6,\n",
       "        137.7, 142.8, 147.9, 153. , 158.1, 163.2, 168.3, 173.4, 178.5,\n",
       "        183.6, 188.7, 193.8, 198.9, 204. , 209.1, 214.2, 219.3, 224.4,\n",
       "        229.5, 234.6, 239.7, 244.8, 249.9, 255. ]),\n",
       " <BarContainer object of 50 artists>)"
      ]
     },
     "execution_count": 15,
     "metadata": {},
     "output_type": "execute_result"
    },
    {
     "data": {
      "image/png": "[encoded data removed]",
      "text/plain": [
       "<Figure size 432x288 with 1 Axes>"
      ]
     },
     "metadata": {
      "needs_background": "light"
     },
     "output_type": "display_data"
    }
   ],
   "source": [
    "# get the value from cumulative sum for every index in flat, and set that as img_new\n",
    "img_new = cs[flat]\n",
    "\n",
    "# we see a much more evenly distributed histogram\n",
    "plt.hist(img_new, bins=50)"
   ]
  },
  {
   "cell_type": "code",
   "execution_count": 16,
   "metadata": {},
   "outputs": [
    {
     "data": {
      "text/plain": [
       "array([[[117,  36, 251],\n",
       "        [117,  36, 251],\n",
       "        [106,  46, 251],\n",
       "        ...,\n",
       "        [142,  46, 208],\n",
       "        [125,  41, 211],\n",
       "        [142,  41, 214]],\n",
       "\n",
       "       [[117,  36, 251],\n",
       "        [117,  36, 251],\n",
       "        [106,  46, 251],\n",
       "        ...,\n",
       "        [125,  46, 209],\n",
       "        [125,  41, 210],\n",
       "        [125,  41, 211]],\n",
       "\n",
       "       [[117,  36, 251],\n",
       "        [117,  36, 251],\n",
       "        [106,  46, 251],\n",
       "        ...,\n",
       "        [125,  41, 210],\n",
       "        [125,  46, 209],\n",
       "        [142,  46, 208]],\n",
       "\n",
       "       ...,\n",
       "\n",
       "       [[ 86,  82, 182],\n",
       "        [ 87,  80, 183],\n",
       "        [ 87,  79, 183],\n",
       "        ...,\n",
       "        [149, 175,  80],\n",
       "        [149, 176,  79],\n",
       "        [142, 174,  80]],\n",
       "\n",
       "       [[ 86,  82, 182],\n",
       "        [ 87,  80, 183],\n",
       "        [ 89,  79, 184],\n",
       "        ...,\n",
       "        [142, 175,  81],\n",
       "        [142, 174,  80],\n",
       "        [149, 175,  80]],\n",
       "\n",
       "       [[ 86,  82, 183],\n",
       "        [ 87,  82, 184],\n",
       "        [ 89,  79, 184],\n",
       "        ...,\n",
       "        [142, 174,  81],\n",
       "        [142, 175,  81],\n",
       "        [142, 175,  81]]], dtype=uint8)"
      ]
     },
     "execution_count": 16,
     "metadata": {},
     "output_type": "execute_result"
    }
   ],
   "source": [
    "# put array back into original shape since we flattened it\n",
    "img_new = np.reshape(img_new, img.shape)\n",
    "img_new"
   ]
  },
  {
   "cell_type": "code",
   "execution_count": 17,
   "metadata": {},
   "outputs": [],
   "source": [
    "#Displaying image after Histogram equalization\n",
    "HE_fin = cv2.cvtColor(img_new, cv2.COLOR_HSV2RGB)\n",
    "cv2.imshow('After Histogram equalization',HE_fin)\n",
    "cv2.waitKey(0)\n",
    "cv2.destroyAllWindows()"
   ]
  },
  {
   "cell_type": "code",
   "execution_count": 18,
   "metadata": {},
   "outputs": [],
   "source": [
    "#Contrast Limited Adaptive Histogram Equalization\n",
    "#Creating CLAHE \n",
    "clahe = cv2.createCLAHE(clipLimit=2, tileGridSize=(29,29))\n",
    "#Binarizing image\n",
    "bin_image=cv2.cvtColor(original_image, cv2.COLOR_RGB2GRAY)\n",
    "#Apply CLAHE to the original image\n",
    "CLAHE_fin = clahe.apply(bin_image)\n",
    "cv2.imshow('After CLAHE Histogram equalization',CLAHE_fin)\n",
    "cv2.waitKey(0)\n",
    "cv2.destroyAllWindows()"
   ]
  },
  {
   "cell_type": "code",
   "execution_count": 19,
   "metadata": {},
   "outputs": [
    {
     "name": "stdout",
     "output_type": "stream",
     "text": [
      "29\n",
      "\n",
      "Ties a woman said, Speak to us of Joy\n",
      "and Sorrow.\n",
      "\n",
      "And he answered:\n",
      "\n",
      "Your joy is your sorrow unmasked.\n",
      "\n",
      "And the selfsame well from which your\n",
      "laughter rises was oftentimes filled with your\n",
      "tears.\n",
      "\n",
      "And how else can it be?\n",
      "\n",
      "The deeper that sorrow carves into your\n",
      "being, the more joy you can contain.\n",
      "\n",
      "Is not the cup that holds your wine the very\n",
      "cup that was burned in the potter’s oven?\n",
      "\n",
      "And is not the lute that soothes your\n",
      "spirit, the very wood that was hollowed\n",
      "with knives?\n",
      "\n",
      "When you are joyous, look deep into\n",
      "your heart and you shall find it is only that\n",
      "which has given you sorrow that is giving\n",
      "you joy.\n",
      "\n",
      "When you are sorrowful look again in\n",
      "your heart, and you shall see. that in truth\n",
      "you are weeping for that which has.\n",
      "your delight.\n",
      "\n",
      "\n"
     ]
    }
   ],
   "source": [
    "#Importing Pytesseract OCR engine\n",
    "import pytesseract\n",
    "pytesseract.pytesseract.tesseract_cmd = 'C:\\\\Program Files\\\\Tesseract-OCR\\\\tesseract.exe'\n",
    "\n",
    "#Reading and binarizing image\n",
    "img = cv2.imread('contrast_OCR.jpg')\n",
    "ret, binar_image = cv2.threshold(img, 120, 255, cv2.THRESH_BINARY)\n",
    "\n",
    "#Performing OCR\n",
    "text = pytesseract.image_to_string(binar_image)\n",
    "print(text)"
   ]
  },
  {
   "cell_type": "code",
   "execution_count": 20,
   "metadata": {},
   "outputs": [
    {
     "name": "stdout",
     "output_type": "stream",
     "text": [
      "rT\n",
      "Dus aewoman said, Speak tou. of Jon\n",
      "and Sorrow,\n",
      "\n",
      "And he answered:\n",
      "\n",
      "Your jov is vour sorrow unmasked.\n",
      "\n",
      "And the seltsame well from which\n",
      "\n",
      "laughter rises was oftentimes filled with vou:\n",
      "tears.\n",
      "\n",
      "And how else can it be?\n",
      "\n",
      "The deeper that sorrow carves into vour\n",
      "being, the more joy you can contain.\n",
      "\n",
      "Ts not the cup that holds your wine the very\n",
      "cup that was burned in the potter's os en?\n",
      "\n",
      "And is not the lute that soothes vour\n",
      "spirit, the very wood that was hollowed\n",
      "with knives?\n",
      "\n",
      "When you are joyous, look deep into\n",
      "your heart and you shall find it is only that\n",
      "which has given you sorrow that is giving\n",
      "you joy.\n",
      "\n",
      "When you are sorrowful look again in\n",
      "your heart, and you shall see that in truth\n",
      "you are weeping for that which has been\n",
      "your delight.\n",
      "\n",
      "\n"
     ]
    }
   ],
   "source": [
    "#Binarizing Histogram equalized image\n",
    "ret, binar = cv2.threshold(HE_fin,120, 255, cv2.THRESH_BINARY)\n",
    "#Performing OCR\n",
    "text = pytesseract.image_to_string(binar) \n",
    "print(text)"
   ]
  },
  {
   "cell_type": "code",
   "execution_count": 21,
   "metadata": {},
   "outputs": [
    {
     "name": "stdout",
     "output_type": "stream",
     "text": [
      "29\n",
      "\n",
      "Then a woman said, Speak to us of Joy\n",
      "and Sorrow.\n",
      "\n",
      "And he answered:\n",
      "\n",
      "Your joy is your sorrow unmasked.\n",
      "\n",
      "And the selfsame well from which your\n",
      "laughter rises was oftentimes filled with your\n",
      "tears.\n",
      "\n",
      "And how else can it be?\n",
      "\n",
      "The deeper that sorrow carves into your\n",
      "being, the more joy you can contain.\n",
      "\n",
      "Is not the cup that holds your wine the very\n",
      "cup that was burned in the potter’s oven?\n",
      "\n",
      "And is not the lute that soothes your\n",
      "spirit, the very wood that was hollowed\n",
      "with knives?\n",
      "\n",
      "When you are joyous, look deep into\n",
      "your heart and you shall find it is only that\n",
      "which has given you sorrow that is giving\n",
      "you joy.\n",
      "\n",
      "When you are sorrowful look again in\n",
      "your heart, and you shall see that in truth\n",
      "you are weeping for that which has been\n",
      "your delight.\n",
      "\n",
      "\n"
     ]
    }
   ],
   "source": [
    "#Binarizing CLAHE image\n",
    "ret, bin = cv2.threshold(CLAHE_fin, 120, 255, cv2.THRESH_BINARY)\n",
    "#Performing OCR\n",
    "text = pytesseract.image_to_string(bin)\n",
    "print(text)"
   ]
  }
 ],
 "metadata": {
  "kernelspec": {
   "display_name": "Python 3 (ipykernel)",
   "language": "python",
   "name": "python3"
  },
  "language_info": {
   "codemirror_mode": {
    "name": "ipython",
    "version": 3
   },
   "file_extension": ".py",
   "mimetype": "text/x-python",
   "name": "python",
   "nbconvert_exporter": "python",
   "pygments_lexer": "ipython3",
   "version": "3.9.12"
  }
 },
 "nbformat": 4,
 "nbformat_minor": 2
}
